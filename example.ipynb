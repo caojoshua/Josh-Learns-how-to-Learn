{
 "cells": [
  {
   "cell_type": "code",
   "execution_count": 1,
   "metadata": {},
   "outputs": [],
   "source": [
    "import warnings\n",
    "\n",
    "with warnings.catch_warnings():\n",
    "    warnings.filterwarnings(\"ignore\", category=FutureWarning)\n",
    "    import imp"
   ]
  },
  {
   "cell_type": "code",
   "execution_count": 2,
   "metadata": {},
   "outputs": [],
   "source": [
    "import NeuralNetwork as nn\n",
    "import numpy as np\n",
    "from sklearn import *\n",
    "import matplotlib.pyplot as plt\n",
    "import random"
   ]
  },
  {
   "cell_type": "code",
   "execution_count": 3,
   "metadata": {},
   "outputs": [
    {
     "name": "stderr",
     "output_type": "stream",
     "text": [
      "C:\\Users\\caojo\\AppData\\Roaming\\Python\\Python36\\site-packages\\tensorflow\\python\\framework\\dtypes.py:519: FutureWarning: Passing (type, 1) or '1type' as a synonym of type is deprecated; in a future version of numpy, it will be understood as (type, (1,)) / '(1,)type'.\n",
      "  _np_qint8 = np.dtype([(\"qint8\", np.int8, 1)])\n",
      "C:\\Users\\caojo\\AppData\\Roaming\\Python\\Python36\\site-packages\\tensorflow\\python\\framework\\dtypes.py:520: FutureWarning: Passing (type, 1) or '1type' as a synonym of type is deprecated; in a future version of numpy, it will be understood as (type, (1,)) / '(1,)type'.\n",
      "  _np_quint8 = np.dtype([(\"quint8\", np.uint8, 1)])\n",
      "C:\\Users\\caojo\\AppData\\Roaming\\Python\\Python36\\site-packages\\tensorflow\\python\\framework\\dtypes.py:521: FutureWarning: Passing (type, 1) or '1type' as a synonym of type is deprecated; in a future version of numpy, it will be understood as (type, (1,)) / '(1,)type'.\n",
      "  _np_qint16 = np.dtype([(\"qint16\", np.int16, 1)])\n",
      "C:\\Users\\caojo\\AppData\\Roaming\\Python\\Python36\\site-packages\\tensorflow\\python\\framework\\dtypes.py:522: FutureWarning: Passing (type, 1) or '1type' as a synonym of type is deprecated; in a future version of numpy, it will be understood as (type, (1,)) / '(1,)type'.\n",
      "  _np_quint16 = np.dtype([(\"quint16\", np.uint16, 1)])\n",
      "C:\\Users\\caojo\\AppData\\Roaming\\Python\\Python36\\site-packages\\tensorflow\\python\\framework\\dtypes.py:523: FutureWarning: Passing (type, 1) or '1type' as a synonym of type is deprecated; in a future version of numpy, it will be understood as (type, (1,)) / '(1,)type'.\n",
      "  _np_qint32 = np.dtype([(\"qint32\", np.int32, 1)])\n",
      "C:\\Users\\caojo\\AppData\\Roaming\\Python\\Python36\\site-packages\\tensorflow\\python\\framework\\dtypes.py:528: FutureWarning: Passing (type, 1) or '1type' as a synonym of type is deprecated; in a future version of numpy, it will be understood as (type, (1,)) / '(1,)type'.\n",
      "  np_resource = np.dtype([(\"resource\", np.ubyte, 1)])\n"
     ]
    }
   ],
   "source": [
    "from __future__ import absolute_import, division, print_function, unicode_literals\n",
    "import tensorflow as tf"
   ]
  },
  {
   "cell_type": "markdown",
   "metadata": {},
   "source": [
    "# Data"
   ]
  },
  {
   "cell_type": "code",
   "execution_count": 4,
   "metadata": {},
   "outputs": [
    {
     "name": "stdout",
     "output_type": "stream",
     "text": [
      "(999, 785)\n"
     ]
    }
   ],
   "source": [
    "data = np.genfromtxt(\"data/train_small.csv\", delimiter=\",\", skip_header=1, dtype=float)\n",
    "# data = data[:50]\n",
    "# data = np.genfromtxt(\"data/generated_dataset.csv\", delimiter=\",\", skip_header=1, dtype=float)\n",
    "print(data.shape)"
   ]
  },
  {
   "cell_type": "code",
   "execution_count": 5,
   "metadata": {},
   "outputs": [
    {
     "name": "stdout",
     "output_type": "stream",
     "text": [
      "(999, 28, 28, 1)\n",
      "(999,)\n"
     ]
    }
   ],
   "source": [
    "X = data[:,1:]\n",
    "X = X.reshape((X.shape[0],28,28,1))\n",
    "Y = data[:,0]\n",
    "\n",
    "print(X.shape)\n",
    "print(Y.shape)"
   ]
  },
  {
   "cell_type": "markdown",
   "metadata": {},
   "source": [
    "### normalize"
   ]
  },
  {
   "cell_type": "code",
   "execution_count": 6,
   "metadata": {},
   "outputs": [
    {
     "name": "stdout",
     "output_type": "stream",
     "text": [
      "(999, 28, 28, 1)\n"
     ]
    }
   ],
   "source": [
    "X /= np.max(X)\n",
    "print(X.shape)"
   ]
  },
  {
   "cell_type": "markdown",
   "metadata": {},
   "source": [
    "### one-hot encoding"
   ]
  },
  {
   "cell_type": "code",
   "execution_count": 7,
   "metadata": {},
   "outputs": [
    {
     "name": "stdout",
     "output_type": "stream",
     "text": [
      "(999, 10)\n"
     ]
    }
   ],
   "source": [
    "Y = Y.astype(dtype=int)\n",
    "tempY = np.zeros(shape=(len(Y), np.max(Y)+1))\n",
    "tempY[np.arange(len(Y)),Y] = 1\n",
    "Y = tempY\n",
    "print(Y.shape)"
   ]
  },
  {
   "cell_type": "markdown",
   "metadata": {},
   "source": [
    "### train/validation split"
   ]
  },
  {
   "cell_type": "code",
   "execution_count": 8,
   "metadata": {},
   "outputs": [
    {
     "name": "stdout",
     "output_type": "stream",
     "text": [
      "(799, 28, 28, 1)\n",
      "(799, 10)\n"
     ]
    },
    {
     "name": "stderr",
     "output_type": "stream",
     "text": [
      "C:\\Users\\caojo\\AppData\\Local\\Programs\\Python\\Python36\\lib\\site-packages\\sklearn\\model_selection\\_split.py:2179: FutureWarning: From version 0.21, test_size will always complement train_size unless both are specified.\n",
      "  FutureWarning)\n"
     ]
    }
   ],
   "source": [
    "Xtr, Xva, Ytr, Yva = model_selection.train_test_split(X, Y, train_size=.80, random_state=0)\n",
    "\n",
    "print(Xtr.shape)\n",
    "print(Ytr.shape)"
   ]
  },
  {
   "cell_type": "markdown",
   "metadata": {},
   "source": [
    "# Building the model"
   ]
  },
  {
   "cell_type": "code",
   "execution_count": 31,
   "metadata": {},
   "outputs": [],
   "source": [
    "model = nn.NeuralNetwork(input_shape = Xtr.shape[1:], lr=0.01, loss=nn.LossFunction.CrossEntropy())\n",
    "model.add_layer(nn.Layer.ConvolutionalLayer, filter_size = (2,2), num_filters = 8)\n",
    "model.add_layer(nn.Layer.Relu)\n",
    "model.add_layer(nn.Layer.FlattenLayer)\n",
    "model.add_layer(nn.Layer.FullyConnectedLayer, num_neurons = 32)\n",
    "model.add_layer(nn.Layer.Relu)\n",
    "model.add_layer(nn.Layer.FullyConnectedLayer, num_neurons = 10)\n",
    "model.add_layer(nn.Layer.Softmax)"
   ]
  },
  {
   "cell_type": "code",
   "execution_count": 39,
   "metadata": {},
   "outputs": [
    {
     "name": "stdout",
     "output_type": "stream",
     "text": [
      "epoch # 0 :\n",
      "\tTraining Accuracy:  0.7884856070087609\n",
      "\tValidation Accuracy:  0.83\n",
      "\tTraining loss:  0.9271221094736484\n",
      "\tvalidation loss:  0.8840913774425303\n",
      "epoch # 1 :\n",
      "\tTraining Accuracy:  0.7847309136420526\n",
      "\tValidation Accuracy:  0.83\n",
      "\tTraining loss:  0.934136387245821\n",
      "\tvalidation loss:  0.889030765822655\n",
      "epoch # 2 :\n",
      "\tTraining Accuracy:  0.772215269086358\n",
      "\tValidation Accuracy:  0.79\n",
      "\tTraining loss:  0.9107748453667767\n",
      "\tvalidation loss:  0.9153697659234606\n",
      "epoch # 3 :\n",
      "\tTraining Accuracy:  0.804755944931164\n",
      "\tValidation Accuracy:  0.79\n",
      "\tTraining loss:  0.876187713987238\n",
      "\tvalidation loss:  0.8718047862932401\n",
      "epoch # 4 :\n",
      "\tTraining Accuracy:  0.8122653316645807\n",
      "\tValidation Accuracy:  0.835\n",
      "\tTraining loss:  0.868056459899386\n",
      "\tvalidation loss:  0.8491949986566134\n",
      "epoch # 5 :\n",
      "\tTraining Accuracy:  0.818523153942428\n",
      "\tValidation Accuracy:  0.835\n",
      "\tTraining loss:  0.8294957735972528\n",
      "\tvalidation loss:  0.8011683660943502\n",
      "epoch # 6 :\n",
      "\tTraining Accuracy:  0.8247809762202754\n",
      "\tValidation Accuracy:  0.87\n",
      "\tTraining loss:  0.8186099897276405\n",
      "\tvalidation loss:  0.7858721045661458\n",
      "epoch # 7 :\n",
      "\tTraining Accuracy:  0.8172715894868585\n",
      "\tValidation Accuracy:  0.795\n",
      "\tTraining loss:  0.8387141847348282\n",
      "\tvalidation loss:  0.839681031897091\n",
      "epoch # 8 :\n",
      "\tTraining Accuracy:  0.8072590738423029\n",
      "\tValidation Accuracy:  0.8\n",
      "\tTraining loss:  0.8223833682685266\n",
      "\tvalidation loss:  0.8006729297952426\n",
      "epoch # 9 :\n",
      "\tTraining Accuracy:  0.8260325406758448\n",
      "\tValidation Accuracy:  0.82\n",
      "\tTraining loss:  0.7833091482250182\n",
      "\tvalidation loss:  0.8012463698819556\n",
      "epoch # 10 :\n",
      "\tTraining Accuracy:  0.8448060075093867\n",
      "\tValidation Accuracy:  0.815\n",
      "\tTraining loss:  0.7606120880829487\n",
      "\tvalidation loss:  0.7721680805009228\n",
      "epoch # 11 :\n",
      "\tTraining Accuracy:  0.8297872340425532\n",
      "\tValidation Accuracy:  0.785\n",
      "\tTraining loss:  0.7894732593037963\n",
      "\tvalidation loss:  0.8374191815833121\n",
      "epoch # 12 :\n",
      "\tTraining Accuracy:  0.8435544430538173\n",
      "\tValidation Accuracy:  0.85\n",
      "\tTraining loss:  0.7385353511696011\n",
      "\tvalidation loss:  0.7369453332344071\n",
      "epoch # 13 :\n",
      "\tTraining Accuracy:  0.8460575719649562\n",
      "\tValidation Accuracy:  0.85\n",
      "\tTraining loss:  0.7243593089570408\n",
      "\tvalidation loss:  0.7173613522760094\n",
      "epoch # 14 :\n",
      "\tTraining Accuracy:  0.8222778473091364\n",
      "\tValidation Accuracy:  0.82\n",
      "\tTraining loss:  0.7522746311571225\n",
      "\tvalidation loss:  0.7471425149788183\n",
      "epoch # 15 :\n",
      "\tTraining Accuracy:  0.8523153942428036\n",
      "\tValidation Accuracy:  0.835\n",
      "\tTraining loss:  0.7058594794685592\n",
      "\tvalidation loss:  0.7009238275242816\n",
      "epoch # 16 :\n",
      "\tTraining Accuracy:  0.8498122653316645\n",
      "\tValidation Accuracy:  0.835\n",
      "\tTraining loss:  0.6930860760107403\n",
      "\tvalidation loss:  0.6916771543235618\n",
      "epoch # 17 :\n",
      "\tTraining Accuracy:  0.8272841051314143\n",
      "\tValidation Accuracy:  0.775\n",
      "\tTraining loss:  0.7143994310793056\n",
      "\tvalidation loss:  0.7368341882971514\n",
      "epoch # 18 :\n",
      "\tTraining Accuracy:  0.8285356695869838\n",
      "\tValidation Accuracy:  0.805\n",
      "\tTraining loss:  0.720407272503502\n",
      "\tvalidation loss:  0.7351146388719164\n",
      "epoch # 19 :\n",
      "\tTraining Accuracy:  0.8448060075093867\n",
      "\tValidation Accuracy:  0.83\n",
      "\tTraining loss:  0.680619456803517\n",
      "\tvalidation loss:  0.682006845054753\n"
     ]
    }
   ],
   "source": [
    "model.train(Xtr, Ytr, Xva, Yva, epochs=20, batch_size=32)"
   ]
  },
  {
   "cell_type": "code",
   "execution_count": 11,
   "metadata": {},
   "outputs": [],
   "source": [
    "predict_va = model.predict(Xva)"
   ]
  },
  {
   "cell_type": "code",
   "execution_count": 12,
   "metadata": {},
   "outputs": [
    {
     "name": "stdout",
     "output_type": "stream",
     "text": [
      "Predicting 5 with 0.11425996444845025 confidence\n"
     ]
    },
    {
     "data": {
      "image/png": "[encoded data removed]",
      "text/plain": [
       "<Figure size 432x288 with 1 Axes>"
      ]
     },
     "metadata": {},
     "output_type": "display_data"
    }
   ],
   "source": [
    "num = random.randint(0, len(Xva))\n",
    "plt.imshow(np.reshape(Xva[num], (28,28)))\n",
    "p = predict_va[num]\n",
    "max_index = np.argmax(p)\n",
    "print (\"Predicting\", max_index, \"with\", p[max_index], \"confidence\")"
   ]
  },
  {
   "cell_type": "markdown",
   "metadata": {},
   "source": [
    "# Tensorflow Comparison"
   ]
  },
  {
   "cell_type": "code",
   "execution_count": 37,
   "metadata": {},
   "outputs": [],
   "source": [
    "tf_model = tf.keras.models.Sequential()\n",
    "tf_model.add(tf.layers.Conv2D(8, (2, 2), input_shape=(28, 28, 1),  activation=tf.nn.relu))\n",
    "tf_model.add(tf.layers.Flatten())\n",
    "tf_model.add(tf.keras.layers.Dense(32, activation='relu'))\n",
    "tf_model.add(tf.keras.layers.Dense(10, activation='softmax'))\n",
    "\n",
    "tf_model.compile(optimizer=tf.keras.optimizers.SGD(lr=0.01),\n",
    "                 loss = tf.keras.losses.categorical_crossentropy,\n",
    "                 metrics=['accuracy'])"
   ]
  },
  {
   "cell_type": "code",
   "execution_count": 38,
   "metadata": {},
   "outputs": [
    {
     "name": "stdout",
     "output_type": "stream",
     "text": [
      "Train on 799 samples, validate on 200 samples\n",
      "Epoch 1/20\n",
      "799/799 [==============================] - 1s 718us/step - loss: 2.1445 - acc: 0.2691 - val_loss: 1.9195 - val_acc: 0.4400\n",
      "Epoch 2/20\n",
      "799/799 [==============================] - 0s 241us/step - loss: 1.8018 - acc: 0.5494 - val_loss: 1.5797 - val_acc: 0.6500\n",
      "Epoch 3/20\n",
      "799/799 [==============================] - 0s 228us/step - loss: 1.4956 - acc: 0.6696 - val_loss: 1.2690 - val_acc: 0.7600\n",
      "Epoch 4/20\n",
      "799/799 [==============================] - 0s 232us/step - loss: 1.2201 - acc: 0.7272 - val_loss: 1.0165 - val_acc: 0.7700\n",
      "Epoch 5/20\n",
      "799/799 [==============================] - 0s 227us/step - loss: 1.0001 - acc: 0.7484 - val_loss: 0.8461 - val_acc: 0.8000\n",
      "Epoch 6/20\n",
      "799/799 [==============================] - 0s 226us/step - loss: 0.8268 - acc: 0.7847 - val_loss: 0.7099 - val_acc: 0.8200\n",
      "Epoch 7/20\n",
      "799/799 [==============================] - 0s 228us/step - loss: 0.7038 - acc: 0.8173 - val_loss: 0.6160 - val_acc: 0.8600\n",
      "Epoch 8/20\n",
      "799/799 [==============================] - 0s 222us/step - loss: 0.6185 - acc: 0.8461 - val_loss: 0.5553 - val_acc: 0.8650\n",
      "Epoch 9/20\n",
      "799/799 [==============================] - 0s 221us/step - loss: 0.5585 - acc: 0.8511 - val_loss: 0.4988 - val_acc: 0.8800\n",
      "Epoch 10/20\n",
      "799/799 [==============================] - 0s 224us/step - loss: 0.5020 - acc: 0.8723 - val_loss: 0.4837 - val_acc: 0.8550\n",
      "Epoch 11/20\n",
      "799/799 [==============================] - 0s 226us/step - loss: 0.4648 - acc: 0.8748 - val_loss: 0.4381 - val_acc: 0.8700\n",
      "Epoch 12/20\n",
      "799/799 [==============================] - 0s 228us/step - loss: 0.4295 - acc: 0.8949 - val_loss: 0.4307 - val_acc: 0.8850\n",
      "Epoch 13/20\n",
      "799/799 [==============================] - 0s 222us/step - loss: 0.4013 - acc: 0.8861 - val_loss: 0.4039 - val_acc: 0.8600\n",
      "Epoch 14/20\n",
      "799/799 [==============================] - 0s 224us/step - loss: 0.3753 - acc: 0.8961 - val_loss: 0.4260 - val_acc: 0.8450\n",
      "Epoch 15/20\n",
      "799/799 [==============================] - 0s 225us/step - loss: 0.3631 - acc: 0.8949 - val_loss: 0.3858 - val_acc: 0.8950\n",
      "Epoch 16/20\n",
      "799/799 [==============================] - 0s 238us/step - loss: 0.3341 - acc: 0.9174 - val_loss: 0.3867 - val_acc: 0.8900\n",
      "Epoch 17/20\n",
      "799/799 [==============================] - 0s 234us/step - loss: 0.3120 - acc: 0.9212 - val_loss: 0.3781 - val_acc: 0.8850\n",
      "Epoch 18/20\n",
      "799/799 [==============================] - 0s 227us/step - loss: 0.2981 - acc: 0.9212 - val_loss: 0.3535 - val_acc: 0.9000\n",
      "Epoch 19/20\n",
      "799/799 [==============================] - 0s 223us/step - loss: 0.2846 - acc: 0.9262 - val_loss: 0.3726 - val_acc: 0.8850\n",
      "Epoch 20/20\n",
      "799/799 [==============================] - 0s 225us/step - loss: 0.2743 - acc: 0.9199 - val_loss: 0.3391 - val_acc: 0.9050\n"
     ]
    },
    {
     "data": {
      "text/plain": [
       "<tensorflow.python.keras._impl.keras.callbacks.History at 0x24d0572ec88>"
      ]
     },
     "execution_count": 38,
     "metadata": {},
     "output_type": "execute_result"
    }
   ],
   "source": [
    "tf_model.fit(Xtr, Ytr, validation_data=(Xva, Yva), epochs = 20, batch_size = 32)"
   ]
  },
  {
   "cell_type": "code",
   "execution_count": 15,
   "metadata": {},
   "outputs": [],
   "source": [
    "tf_predict_va = tf_model.predict(Xva)"
   ]
  },
  {
   "cell_type": "code",
   "execution_count": 16,
   "metadata": {},
   "outputs": [
    {
     "name": "stdout",
     "output_type": "stream",
     "text": [
      "Predicting 6 with 0.98584044 confidence\n"
     ]
    },
    {
     "data": {
      "image/png": "[encoded data removed]",
      "text/plain": [
       "<Figure size 432x288 with 1 Axes>"
      ]
     },
     "metadata": {},
     "output_type": "display_data"
    }
   ],
   "source": [
    "num = random.randint(0, len(Xva))\n",
    "plt.imshow(np.reshape(Xva[num], (28,28)))\n",
    "p = tf_predict_va[num]\n",
    "max_index = np.argmax(p)\n",
    "print (\"Predicting\", max_index, \"with\", p[max_index], \"confidence\")"
   ]
  },
  {
   "cell_type": "code",
   "execution_count": null,
   "metadata": {},
   "outputs": [],
   "source": []
  },
  {
   "cell_type": "code",
   "execution_count": null,
   "metadata": {},
   "outputs": [],
   "source": []
  }
 ],
 "metadata": {
  "kernelspec": {
   "display_name": "Python 3",
   "language": "python",
   "name": "python3"
  },
  "language_info": {
   "codemirror_mode": {
    "name": "ipython",
    "version": 3
   },
   "file_extension": ".py",
   "mimetype": "text/x-python",
   "name": "python",
   "nbconvert_exporter": "python",
   "pygments_lexer": "ipython3",
   "version": "3.6.5"
  }
 },
 "nbformat": 4,
 "nbformat_minor": 2
}
