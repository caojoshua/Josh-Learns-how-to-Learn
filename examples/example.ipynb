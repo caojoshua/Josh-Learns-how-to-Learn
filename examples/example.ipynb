{
 "cells": [
  {
   "cell_type": "code",
   "execution_count": 1,
   "metadata": {},
   "outputs": [],
   "source": [
    "import JoshLearnsHowToLearn as jll\n",
    "import numpy as np\n",
    "from sklearn import *\n",
    "import matplotlib.pyplot as plt\n",
    "import random"
   ]
  },
  {
   "cell_type": "code",
   "execution_count": 2,
   "metadata": {},
   "outputs": [
    {
     "name": "stderr",
     "output_type": "stream",
     "text": [
      "C:\\Users\\caojo\\AppData\\Roaming\\Python\\Python36\\site-packages\\tensorflow\\python\\framework\\dtypes.py:519: FutureWarning: Passing (type, 1) or '1type' as a synonym of type is deprecated; in a future version of numpy, it will be understood as (type, (1,)) / '(1,)type'.\n",
      "  _np_qint8 = np.dtype([(\"qint8\", np.int8, 1)])\n",
      "C:\\Users\\caojo\\AppData\\Roaming\\Python\\Python36\\site-packages\\tensorflow\\python\\framework\\dtypes.py:520: FutureWarning: Passing (type, 1) or '1type' as a synonym of type is deprecated; in a future version of numpy, it will be understood as (type, (1,)) / '(1,)type'.\n",
      "  _np_quint8 = np.dtype([(\"quint8\", np.uint8, 1)])\n",
      "C:\\Users\\caojo\\AppData\\Roaming\\Python\\Python36\\site-packages\\tensorflow\\python\\framework\\dtypes.py:521: FutureWarning: Passing (type, 1) or '1type' as a synonym of type is deprecated; in a future version of numpy, it will be understood as (type, (1,)) / '(1,)type'.\n",
      "  _np_qint16 = np.dtype([(\"qint16\", np.int16, 1)])\n",
      "C:\\Users\\caojo\\AppData\\Roaming\\Python\\Python36\\site-packages\\tensorflow\\python\\framework\\dtypes.py:522: FutureWarning: Passing (type, 1) or '1type' as a synonym of type is deprecated; in a future version of numpy, it will be understood as (type, (1,)) / '(1,)type'.\n",
      "  _np_quint16 = np.dtype([(\"quint16\", np.uint16, 1)])\n",
      "C:\\Users\\caojo\\AppData\\Roaming\\Python\\Python36\\site-packages\\tensorflow\\python\\framework\\dtypes.py:523: FutureWarning: Passing (type, 1) or '1type' as a synonym of type is deprecated; in a future version of numpy, it will be understood as (type, (1,)) / '(1,)type'.\n",
      "  _np_qint32 = np.dtype([(\"qint32\", np.int32, 1)])\n",
      "C:\\Users\\caojo\\AppData\\Roaming\\Python\\Python36\\site-packages\\tensorflow\\python\\framework\\dtypes.py:528: FutureWarning: Passing (type, 1) or '1type' as a synonym of type is deprecated; in a future version of numpy, it will be understood as (type, (1,)) / '(1,)type'.\n",
      "  np_resource = np.dtype([(\"resource\", np.ubyte, 1)])\n"
     ]
    }
   ],
   "source": [
    "from __future__ import absolute_import, division, print_function, unicode_literals\n",
    "import tensorflow as tf"
   ]
  },
  {
   "cell_type": "markdown",
   "metadata": {},
   "source": [
    "# Data"
   ]
  },
  {
   "cell_type": "code",
   "execution_count": 3,
   "metadata": {},
   "outputs": [
    {
     "name": "stdout",
     "output_type": "stream",
     "text": [
      "(999, 785)\n"
     ]
    }
   ],
   "source": [
    "data = np.genfromtxt(\"data/train_small.csv\", delimiter=\",\", skip_header=1, dtype=float)\n",
    "# data = data[:50]\n",
    "# data = np.genfromtxt(\"data/generated_dataset.csv\", delimiter=\",\", skip_header=1, dtype=float)\n",
    "print(data.shape)"
   ]
  },
  {
   "cell_type": "code",
   "execution_count": 4,
   "metadata": {},
   "outputs": [
    {
     "name": "stdout",
     "output_type": "stream",
     "text": [
      "(999, 28, 28, 1)\n",
      "(999,)\n"
     ]
    }
   ],
   "source": [
    "X = data[:,1:]\n",
    "X = X.reshape((X.shape[0],28,28,1))\n",
    "Y = data[:,0]\n",
    "\n",
    "print(X.shape)\n",
    "print(Y.shape)"
   ]
  },
  {
   "cell_type": "markdown",
   "metadata": {},
   "source": [
    "### normalize"
   ]
  },
  {
   "cell_type": "code",
   "execution_count": 5,
   "metadata": {},
   "outputs": [
    {
     "name": "stdout",
     "output_type": "stream",
     "text": [
      "(999, 28, 28, 1)\n"
     ]
    }
   ],
   "source": [
    "X /= np.max(X)\n",
    "print(X.shape)"
   ]
  },
  {
   "cell_type": "markdown",
   "metadata": {},
   "source": [
    "### one-hot encoding"
   ]
  },
  {
   "cell_type": "code",
   "execution_count": 6,
   "metadata": {},
   "outputs": [
    {
     "name": "stdout",
     "output_type": "stream",
     "text": [
      "(999, 10)\n"
     ]
    }
   ],
   "source": [
    "Y = Y.astype(dtype=int)\n",
    "tempY = np.zeros(shape=(len(Y), np.max(Y)+1))\n",
    "tempY[np.arange(len(Y)),Y] = 1\n",
    "Y = tempY\n",
    "print(Y.shape)"
   ]
  },
  {
   "cell_type": "markdown",
   "metadata": {},
   "source": [
    "### train/validation split"
   ]
  },
  {
   "cell_type": "code",
   "execution_count": 7,
   "metadata": {},
   "outputs": [
    {
     "name": "stdout",
     "output_type": "stream",
     "text": [
      "(799, 28, 28, 1)\n",
      "(799, 10)\n"
     ]
    },
    {
     "name": "stderr",
     "output_type": "stream",
     "text": [
      "C:\\Users\\caojo\\AppData\\Local\\Programs\\Python\\Python36\\lib\\site-packages\\sklearn\\model_selection\\_split.py:2179: FutureWarning: From version 0.21, test_size will always complement train_size unless both are specified.\n",
      "  FutureWarning)\n"
     ]
    }
   ],
   "source": [
    "Xtr, Xva, Ytr, Yva = model_selection.train_test_split(X, Y, train_size=.80, random_state=0)\n",
    "\n",
    "print(Xtr.shape)\n",
    "print(Ytr.shape)"
   ]
  },
  {
   "cell_type": "markdown",
   "metadata": {},
   "source": [
    "# Building the model"
   ]
  },
  {
   "cell_type": "code",
   "execution_count": 8,
   "metadata": {},
   "outputs": [],
   "source": [
    "model = jll.NeuralNetwork.NeuralNetwork(input_shape = Xtr.shape[1:], lr=0.01, loss=jll.LossFunction.CrossEntropy())\n",
    "model.add_layer(jll.Layer.ConvolutionalLayer, filter_size = (2,2), num_filters = 8)\n",
    "model.add_layer(jll.Layer.Relu)\n",
    "model.add_layer(jll.Layer.ConvolutionalLayer, filter_size = (2,2), num_filters = 4)\n",
    "model.add_layer(jll.Layer.Relu)\n",
    "model.add_layer(jll.Layer.FlattenLayer)\n",
    "model.add_layer(jll.Layer.FullyConnectedLayer, num_neurons = 16)\n",
    "model.add_layer(jll.Layer.Relu)\n",
    "model.add_layer(jll.Layer.FullyConnectedLayer, num_neurons = 10)\n",
    "model.add_layer(jll.Layer.Softmax)"
   ]
  },
  {
   "cell_type": "code",
   "execution_count": 9,
   "metadata": {},
   "outputs": [
    {
     "name": "stdout",
     "output_type": "stream",
     "text": [
      "epoch # 0 :\n",
      "\tTraining Accuracy:  0.37296620775969963\n",
      "\tValidation Accuracy:  0.365\n",
      "\tTraining loss:  1.7776297895960174\n",
      "\tvalidation loss:  1.7922098226917211\n",
      "epoch # 1 :\n",
      "\tTraining Accuracy:  0.6057571964956195\n",
      "\tValidation Accuracy:  0.62\n",
      "\tTraining loss:  1.2946964192908814\n",
      "\tvalidation loss:  1.2847141440579495\n",
      "epoch # 2 :\n",
      "\tTraining Accuracy:  0.655819774718398\n",
      "\tValidation Accuracy:  0.74\n",
      "\tTraining loss:  1.1494335749270748\n",
      "\tvalidation loss:  1.0890295950719746\n",
      "epoch # 3 :\n",
      "\tTraining Accuracy:  0.7221526908635795\n",
      "\tValidation Accuracy:  0.71\n",
      "\tTraining loss:  1.0286740202524398\n",
      "\tvalidation loss:  1.0393365234139285\n",
      "epoch # 4 :\n",
      "\tTraining Accuracy:  0.7797246558197747\n",
      "\tValidation Accuracy:  0.795\n",
      "\tTraining loss:  0.893380785958714\n",
      "\tvalidation loss:  0.8840483108080344\n",
      "epoch # 5 :\n",
      "\tTraining Accuracy:  0.7872340425531915\n",
      "\tValidation Accuracy:  0.79\n",
      "\tTraining loss:  0.8772316513960324\n",
      "\tvalidation loss:  0.8574749207051734\n",
      "epoch # 6 :\n",
      "\tTraining Accuracy:  0.7259073842302879\n",
      "\tValidation Accuracy:  0.76\n",
      "\tTraining loss:  0.8928731238952449\n",
      "\tvalidation loss:  0.9212813522228529\n",
      "epoch # 7 :\n",
      "\tTraining Accuracy:  0.8172715894868585\n",
      "\tValidation Accuracy:  0.805\n",
      "\tTraining loss:  0.7512619988678702\n",
      "\tvalidation loss:  0.7683805425418138\n",
      "epoch # 8 :\n",
      "\tTraining Accuracy:  0.8247809762202754\n",
      "\tValidation Accuracy:  0.83\n",
      "\tTraining loss:  0.7090656132992081\n",
      "\tvalidation loss:  0.7152114181525578\n",
      "epoch # 9 :\n",
      "\tTraining Accuracy:  0.7647058823529411\n",
      "\tValidation Accuracy:  0.745\n",
      "\tTraining loss:  0.7622339937663821\n",
      "\tvalidation loss:  0.7683314249642536\n",
      "epoch # 10 :\n",
      "\tTraining Accuracy:  0.8347934918648311\n",
      "\tValidation Accuracy:  0.835\n",
      "\tTraining loss:  0.5955171002600762\n",
      "\tvalidation loss:  0.5899864924227467\n",
      "epoch # 11 :\n",
      "\tTraining Accuracy:  0.6695869837296621\n",
      "\tValidation Accuracy:  0.66\n",
      "\tTraining loss:  0.9765712219615712\n",
      "\tvalidation loss:  1.0673065598004063\n",
      "epoch # 12 :\n",
      "\tTraining Accuracy:  0.8272841051314143\n",
      "\tValidation Accuracy:  0.82\n",
      "\tTraining loss:  0.6109152724074602\n",
      "\tvalidation loss:  0.5592647920959994\n",
      "epoch # 13 :\n",
      "\tTraining Accuracy:  0.523153942428035\n",
      "\tValidation Accuracy:  0.545\n",
      "\tTraining loss:  2.0608108337471926\n",
      "\tvalidation loss:  2.1198934755985417\n",
      "epoch # 14 :\n",
      "\tTraining Accuracy:  0.5807259073842302\n",
      "\tValidation Accuracy:  0.585\n",
      "\tTraining loss:  1.3649435900167313\n",
      "\tvalidation loss:  1.2440348061476119\n",
      "epoch # 15 :\n",
      "\tTraining Accuracy:  0.8272841051314143\n",
      "\tValidation Accuracy:  0.805\n",
      "\tTraining loss:  0.5861130808664555\n",
      "\tvalidation loss:  0.6488686329951073\n",
      "epoch # 16 :\n",
      "\tTraining Accuracy:  0.7521902377972466\n",
      "\tValidation Accuracy:  0.725\n",
      "\tTraining loss:  0.8224134593781594\n",
      "\tvalidation loss:  0.8360500507672416\n",
      "epoch # 17 :\n",
      "\tTraining Accuracy:  0.8585732165206508\n",
      "\tValidation Accuracy:  0.835\n",
      "\tTraining loss:  0.48242825438511083\n",
      "\tvalidation loss:  0.5082957992268852\n",
      "epoch # 18 :\n",
      "\tTraining Accuracy:  0.737171464330413\n",
      "\tValidation Accuracy:  0.725\n",
      "\tTraining loss:  0.7684008305206035\n",
      "\tvalidation loss:  0.7820880343318499\n",
      "epoch # 19 :\n",
      "\tTraining Accuracy:  0.8598247809762203\n",
      "\tValidation Accuracy:  0.815\n",
      "\tTraining loss:  0.46434099453139405\n",
      "\tvalidation loss:  0.4918262710235718\n"
     ]
    }
   ],
   "source": [
    "model.train(Xtr, Ytr, Xva, Yva, epochs=20, batch_size=32)"
   ]
  },
  {
   "cell_type": "code",
   "execution_count": 10,
   "metadata": {},
   "outputs": [],
   "source": [
    "predict_va = model.predict(Xva)"
   ]
  },
  {
   "cell_type": "code",
   "execution_count": 11,
   "metadata": {},
   "outputs": [
    {
     "name": "stdout",
     "output_type": "stream",
     "text": [
      "Predicting 2 with 0.9969006191697893 confidence\n"
     ]
    },
    {
     "data": {
      "image/png": "[encoded data removed]",
      "text/plain": [
       "<Figure size 432x288 with 1 Axes>"
      ]
     },
     "metadata": {},
     "output_type": "display_data"
    }
   ],
   "source": [
    "num = random.randint(0, len(Xva))\n",
    "plt.imshow(np.reshape(Xva[num], (28,28)))\n",
    "p = predict_va[num]\n",
    "max_index = np.argmax(p)\n",
    "print (\"Predicting\", max_index, \"with\", p[max_index], \"confidence\")"
   ]
  },
  {
   "cell_type": "markdown",
   "metadata": {},
   "source": [
    "# Tensorflow Comparison"
   ]
  },
  {
   "cell_type": "code",
   "execution_count": 16,
   "metadata": {},
   "outputs": [],
   "source": [
    "tf_model = tf.keras.models.Sequential()\n",
    "tf_model.add(tf.layers.Conv2D(8, (2, 2), input_shape=(28, 28, 1),  activation=tf.nn.relu))\n",
    "tf_model.add(tf.layers.Conv2D(4, (2, 2),  activation=tf.nn.relu))\n",
    "tf_model.add(tf.layers.Flatten())\n",
    "tf_model.add(tf.keras.layers.Dense(16, activation='relu'))\n",
    "tf_model.add(tf.keras.layers.Dense(10, activation='softmax'))\n",
    "\n",
    "tf_model.compile(optimizer=tf.keras.optimizers.SGD(lr=0.01),\n",
    "                 loss = tf.keras.losses.categorical_crossentropy,\n",
    "                 metrics=['accuracy'])"
   ]
  },
  {
   "cell_type": "code",
   "execution_count": 17,
   "metadata": {},
   "outputs": [
    {
     "name": "stdout",
     "output_type": "stream",
     "text": [
      "Train on 799 samples, validate on 200 samples\n",
      "Epoch 1/20\n",
      "799/799 [==============================] - 1s 967us/step - loss: 2.3200 - acc: 0.1089 - val_loss: 2.2991 - val_acc: 0.1500\n",
      "Epoch 2/20\n",
      "799/799 [==============================] - 0s 243us/step - loss: 2.2685 - acc: 0.1977 - val_loss: 2.2436 - val_acc: 0.2150\n",
      "Epoch 3/20\n",
      "799/799 [==============================] - 0s 220us/step - loss: 2.1974 - acc: 0.2753 - val_loss: 2.1434 - val_acc: 0.2950\n",
      "Epoch 4/20\n",
      "799/799 [==============================] - 0s 219us/step - loss: 2.0471 - acc: 0.3717 - val_loss: 1.9571 - val_acc: 0.4350\n",
      "Epoch 5/20\n",
      "799/799 [==============================] - 0s 231us/step - loss: 1.7907 - acc: 0.5344 - val_loss: 1.6344 - val_acc: 0.5400\n",
      "Epoch 6/20\n",
      "799/799 [==============================] - 0s 227us/step - loss: 1.4243 - acc: 0.6358 - val_loss: 1.2548 - val_acc: 0.6550\n",
      "Epoch 7/20\n",
      "799/799 [==============================] - 0s 231us/step - loss: 1.0806 - acc: 0.7159 - val_loss: 0.8320 - val_acc: 0.8000\n",
      "Epoch 8/20\n",
      "799/799 [==============================] - 0s 230us/step - loss: 0.8055 - acc: 0.7897 - val_loss: 0.8313 - val_acc: 0.7400\n",
      "Epoch 9/20\n",
      "799/799 [==============================] - 0s 229us/step - loss: 0.6979 - acc: 0.8160 - val_loss: 0.5624 - val_acc: 0.8300\n",
      "Epoch 10/20\n",
      "799/799 [==============================] - 0s 235us/step - loss: 0.5829 - acc: 0.8448 - val_loss: 0.5275 - val_acc: 0.8400\n",
      "Epoch 11/20\n",
      "799/799 [==============================] - 0s 231us/step - loss: 0.5407 - acc: 0.8461 - val_loss: 0.4744 - val_acc: 0.8550\n",
      "Epoch 12/20\n",
      "799/799 [==============================] - 0s 225us/step - loss: 0.4731 - acc: 0.8636 - val_loss: 0.5333 - val_acc: 0.8350\n",
      "Epoch 13/20\n",
      "799/799 [==============================] - 0s 239us/step - loss: 0.4481 - acc: 0.8723 - val_loss: 0.4339 - val_acc: 0.8700\n",
      "Epoch 14/20\n",
      "799/799 [==============================] - 0s 228us/step - loss: 0.4015 - acc: 0.8811 - val_loss: 0.5136 - val_acc: 0.8550\n",
      "Epoch 15/20\n",
      "799/799 [==============================] - 0s 228us/step - loss: 0.3893 - acc: 0.8936 - val_loss: 0.4439 - val_acc: 0.8500\n",
      "Epoch 16/20\n",
      "799/799 [==============================] - 0s 229us/step - loss: 0.3400 - acc: 0.9074 - val_loss: 0.4933 - val_acc: 0.8650\n",
      "Epoch 17/20\n",
      "799/799 [==============================] - 0s 232us/step - loss: 0.3387 - acc: 0.9049 - val_loss: 0.4225 - val_acc: 0.8800\n",
      "Epoch 18/20\n",
      "799/799 [==============================] - 0s 248us/step - loss: 0.2992 - acc: 0.9237 - val_loss: 0.4072 - val_acc: 0.8850\n",
      "Epoch 19/20\n",
      "799/799 [==============================] - 0s 246us/step - loss: 0.3004 - acc: 0.9124 - val_loss: 0.4826 - val_acc: 0.8550\n",
      "Epoch 20/20\n",
      "799/799 [==============================] - 0s 230us/step - loss: 0.2767 - acc: 0.9249 - val_loss: 0.4029 - val_acc: 0.8600\n"
     ]
    },
    {
     "data": {
      "text/plain": [
       "<tensorflow.python.keras._impl.keras.callbacks.History at 0x26ed9708ac8>"
      ]
     },
     "execution_count": 17,
     "metadata": {},
     "output_type": "execute_result"
    }
   ],
   "source": [
    "tf_model.fit(Xtr, Ytr, validation_data=(Xva, Yva), epochs = 20, batch_size = 32)"
   ]
  },
  {
   "cell_type": "code",
   "execution_count": 18,
   "metadata": {},
   "outputs": [],
   "source": [
    "tf_predict_va = tf_model.predict(Xva)"
   ]
  },
  {
   "cell_type": "code",
   "execution_count": 19,
   "metadata": {},
   "outputs": [
    {
     "name": "stdout",
     "output_type": "stream",
     "text": [
      "Predicting 6 with 0.98931944 confidence\n"
     ]
    },
    {
     "data": {
      "image/png": "[encoded data removed]",
      "text/plain": [
       "<Figure size 432x288 with 1 Axes>"
      ]
     },
     "metadata": {},
     "output_type": "display_data"
    }
   ],
   "source": [
    "num = random.randint(0, len(Xva))\n",
    "plt.imshow(np.reshape(Xva[num], (28,28)))\n",
    "p = tf_predict_va[num]\n",
    "max_index = np.argmax(p)\n",
    "print (\"Predicting\", max_index, \"with\", p[max_index], \"confidence\")"
   ]
  },
  {
   "cell_type": "code",
   "execution_count": null,
   "metadata": {},
   "outputs": [],
   "source": []
  },
  {
   "cell_type": "code",
   "execution_count": null,
   "metadata": {},
   "outputs": [],
   "source": []
  }
 ],
 "metadata": {
  "kernelspec": {
   "display_name": "Python 3",
   "language": "python",
   "name": "python3"
  },
  "language_info": {
   "codemirror_mode": {
    "name": "ipython",
    "version": 3
   },
   "file_extension": ".py",
   "mimetype": "text/x-python",
   "name": "python",
   "nbconvert_exporter": "python",
   "pygments_lexer": "ipython3",
   "version": "3.6.5"
  }
 },
 "nbformat": 4,
 "nbformat_minor": 2
}
